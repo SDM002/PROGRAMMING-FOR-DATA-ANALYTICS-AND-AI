{
 "cells": [
  {
   "cell_type": "code",
   "execution_count": 1,
   "id": "e01dda1c",
   "metadata": {},
   "outputs": [],
   "source": [
    "import pandas as pd\n",
    "import numpy as np\n",
    "import seaborn as sns\n",
    "import matplotlib.pyplot as plt"
   ]
  },
  {
   "cell_type": "code",
   "execution_count": 2,
   "id": "35ab2c3b",
   "metadata": {},
   "outputs": [],
   "source": [
    "df = pd.read_csv('psyco.csv')"
   ]
  },
  {
   "cell_type": "code",
   "execution_count": 3,
   "id": "166915bf",
   "metadata": {},
   "outputs": [
    {
     "name": "stdout",
     "output_type": "stream",
     "text": [
      "Index(['age', 'gender', 'occupation', 'line_of_work', 'time_bp', 'time_dp',\n",
      "       'travel_time', 'easeof_online', 'home_env', 'prod_inc', 'sleep_bal',\n",
      "       'new_skill', 'fam_connect', 'relaxed', 'self_time', 'like_hw',\n",
      "       'dislike_hw', 'prefer', 'certaindays_hw'],\n",
      "      dtype='object')\n"
     ]
    }
   ],
   "source": [
    "print(df.columns)"
   ]
  },
  {
   "cell_type": "code",
   "execution_count": 4,
   "id": "b5a2c9b9",
   "metadata": {},
   "outputs": [
    {
     "name": "stdout",
     "output_type": "stream",
     "text": [
      "           time_bp      time_dp  travel_time  easeof_online     home_env  \\\n",
      "count  1175.000000  1175.000000  1175.000000    1175.000000  1175.000000   \n",
      "mean      7.415319     7.971915     1.027660       2.533617     2.752340   \n",
      "std       2.005385     2.657007     0.713314       1.267609     1.235799   \n",
      "min       4.000000     4.000000     0.500000       1.000000     1.000000   \n",
      "25%       5.000000     5.000000     0.500000       1.000000     2.000000   \n",
      "50%       7.000000     9.000000     0.500000       2.000000     3.000000   \n",
      "75%       9.000000     9.000000     1.500000       4.000000     4.000000   \n",
      "max      12.000000    12.000000     3.000000       5.000000     5.000000   \n",
      "\n",
      "          prod_inc    sleep_bal    new_skill  fam_connect      relaxed  \\\n",
      "count  1175.000000  1175.000000  1175.000000  1175.000000  1175.000000   \n",
      "mean      0.008936    -0.108936     0.146809     0.260426     0.035745   \n",
      "std       0.615083     0.621215     0.643686     0.686825     0.626637   \n",
      "min      -1.000000    -1.000000    -1.000000    -1.000000    -1.000000   \n",
      "25%      -0.500000    -0.500000    -0.500000     0.000000    -0.500000   \n",
      "50%       0.000000     0.000000     0.500000     0.500000     0.000000   \n",
      "75%       0.500000     0.500000     0.500000     1.000000     0.500000   \n",
      "max       1.000000     1.000000     1.000000     1.000000     1.000000   \n",
      "\n",
      "         self_time      like_hw   dislike_hw  \n",
      "count  1175.000000  1175.000000  1175.000000  \n",
      "mean      0.082979   734.840851   651.067234  \n",
      "std       0.541434   468.000935   502.319310  \n",
      "min      -1.000000     1.000000     1.000000  \n",
      "25%      -0.500000   100.000000   101.000000  \n",
      "50%       0.000000  1001.000000  1000.000000  \n",
      "75%       0.500000  1100.000000  1101.000000  \n",
      "max       1.000000  1111.000000  1111.000000  \n"
     ]
    }
   ],
   "source": [
    "print(df.describe())"
   ]
  },
  {
   "cell_type": "code",
   "execution_count": 5,
   "id": "30e969af",
   "metadata": {},
   "outputs": [
    {
     "data": {
      "text/plain": [
       "(1175, 19)"
      ]
     },
     "execution_count": 5,
     "metadata": {},
     "output_type": "execute_result"
    }
   ],
   "source": [
    "df.shape\n"
   ]
  },
  {
   "cell_type": "code",
   "execution_count": 6,
   "id": "daf96ea0",
   "metadata": {},
   "outputs": [
    {
     "name": "stdout",
     "output_type": "stream",
     "text": [
      "<class 'pandas.core.frame.DataFrame'>\n",
      "RangeIndex: 1175 entries, 0 to 1174\n",
      "Data columns (total 19 columns):\n",
      " #   Column          Non-Null Count  Dtype  \n",
      "---  ------          --------------  -----  \n",
      " 0   age             1175 non-null   object \n",
      " 1   gender          1175 non-null   object \n",
      " 2   occupation      1175 non-null   object \n",
      " 3   line_of_work    479 non-null    object \n",
      " 4   time_bp         1175 non-null   int64  \n",
      " 5   time_dp         1175 non-null   int64  \n",
      " 6   travel_time     1175 non-null   float64\n",
      " 7   easeof_online   1175 non-null   int64  \n",
      " 8   home_env        1175 non-null   int64  \n",
      " 9   prod_inc        1175 non-null   float64\n",
      " 10  sleep_bal       1175 non-null   float64\n",
      " 11  new_skill       1175 non-null   float64\n",
      " 12  fam_connect     1175 non-null   float64\n",
      " 13  relaxed         1175 non-null   float64\n",
      " 14  self_time       1175 non-null   float64\n",
      " 15  like_hw         1175 non-null   int64  \n",
      " 16  dislike_hw      1175 non-null   int64  \n",
      " 17  prefer          1175 non-null   object \n",
      " 18  certaindays_hw  1175 non-null   object \n",
      "dtypes: float64(7), int64(6), object(6)\n",
      "memory usage: 174.5+ KB\n"
     ]
    }
   ],
   "source": [
    "df.info()"
   ]
  },
  {
   "cell_type": "code",
   "execution_count": 7,
   "id": "df84713a",
   "metadata": {},
   "outputs": [],
   "source": [
    " #df = df.fillna(0)"
   ]
  },
  {
   "cell_type": "code",
   "execution_count": 8,
   "id": "518a839e",
   "metadata": {},
   "outputs": [
    {
     "data": {
      "text/html": [
       "<div>\n",
       "<style scoped>\n",
       "    .dataframe tbody tr th:only-of-type {\n",
       "        vertical-align: middle;\n",
       "    }\n",
       "\n",
       "    .dataframe tbody tr th {\n",
       "        vertical-align: top;\n",
       "    }\n",
       "\n",
       "    .dataframe thead th {\n",
       "        text-align: right;\n",
       "    }\n",
       "</style>\n",
       "<table border=\"1\" class=\"dataframe\">\n",
       "  <thead>\n",
       "    <tr style=\"text-align: right;\">\n",
       "      <th></th>\n",
       "      <th>age</th>\n",
       "      <th>gender</th>\n",
       "      <th>occupation</th>\n",
       "      <th>line_of_work</th>\n",
       "      <th>time_bp</th>\n",
       "      <th>time_dp</th>\n",
       "      <th>travel_time</th>\n",
       "      <th>easeof_online</th>\n",
       "      <th>home_env</th>\n",
       "      <th>prod_inc</th>\n",
       "      <th>sleep_bal</th>\n",
       "      <th>new_skill</th>\n",
       "      <th>fam_connect</th>\n",
       "      <th>relaxed</th>\n",
       "      <th>self_time</th>\n",
       "      <th>like_hw</th>\n",
       "      <th>dislike_hw</th>\n",
       "      <th>prefer</th>\n",
       "      <th>certaindays_hw</th>\n",
       "    </tr>\n",
       "  </thead>\n",
       "  <tbody>\n",
       "    <tr>\n",
       "      <th>0</th>\n",
       "      <td>19-25</td>\n",
       "      <td>Male</td>\n",
       "      <td>Student in College</td>\n",
       "      <td>NaN</td>\n",
       "      <td>7</td>\n",
       "      <td>5</td>\n",
       "      <td>0.5</td>\n",
       "      <td>3</td>\n",
       "      <td>3</td>\n",
       "      <td>0.0</td>\n",
       "      <td>0.0</td>\n",
       "      <td>0.5</td>\n",
       "      <td>1.0</td>\n",
       "      <td>-0.5</td>\n",
       "      <td>-0.5</td>\n",
       "      <td>100</td>\n",
       "      <td>1</td>\n",
       "      <td>Complete Physical Attendance</td>\n",
       "      <td>Yes</td>\n",
       "    </tr>\n",
       "    <tr>\n",
       "      <th>1</th>\n",
       "      <td>Dec-18</td>\n",
       "      <td>Male</td>\n",
       "      <td>Student in School</td>\n",
       "      <td>NaN</td>\n",
       "      <td>7</td>\n",
       "      <td>11</td>\n",
       "      <td>0.5</td>\n",
       "      <td>4</td>\n",
       "      <td>2</td>\n",
       "      <td>-0.5</td>\n",
       "      <td>0.5</td>\n",
       "      <td>-1.0</td>\n",
       "      <td>1.0</td>\n",
       "      <td>1.0</td>\n",
       "      <td>1.0</td>\n",
       "      <td>1111</td>\n",
       "      <td>1110</td>\n",
       "      <td>Complete Physical Attendance</td>\n",
       "      <td>No</td>\n",
       "    </tr>\n",
       "    <tr>\n",
       "      <th>2</th>\n",
       "      <td>19-25</td>\n",
       "      <td>Male</td>\n",
       "      <td>Student in College</td>\n",
       "      <td>NaN</td>\n",
       "      <td>7</td>\n",
       "      <td>7</td>\n",
       "      <td>1.5</td>\n",
       "      <td>2</td>\n",
       "      <td>2</td>\n",
       "      <td>1.0</td>\n",
       "      <td>0.0</td>\n",
       "      <td>0.5</td>\n",
       "      <td>0.5</td>\n",
       "      <td>0.5</td>\n",
       "      <td>0.5</td>\n",
       "      <td>1100</td>\n",
       "      <td>111</td>\n",
       "      <td>Complete Physical Attendance</td>\n",
       "      <td>Yes</td>\n",
       "    </tr>\n",
       "    <tr>\n",
       "      <th>3</th>\n",
       "      <td>19-25</td>\n",
       "      <td>Male</td>\n",
       "      <td>Student in College</td>\n",
       "      <td>NaN</td>\n",
       "      <td>7</td>\n",
       "      <td>7</td>\n",
       "      <td>1.5</td>\n",
       "      <td>3</td>\n",
       "      <td>1</td>\n",
       "      <td>0.0</td>\n",
       "      <td>1.0</td>\n",
       "      <td>0.5</td>\n",
       "      <td>0.0</td>\n",
       "      <td>-1.0</td>\n",
       "      <td>-0.5</td>\n",
       "      <td>100</td>\n",
       "      <td>1111</td>\n",
       "      <td>Complete Physical Attendance</td>\n",
       "      <td>Yes</td>\n",
       "    </tr>\n",
       "    <tr>\n",
       "      <th>4</th>\n",
       "      <td>19-25</td>\n",
       "      <td>Female</td>\n",
       "      <td>Student in College</td>\n",
       "      <td>NaN</td>\n",
       "      <td>7</td>\n",
       "      <td>7</td>\n",
       "      <td>1.5</td>\n",
       "      <td>2</td>\n",
       "      <td>2</td>\n",
       "      <td>0.0</td>\n",
       "      <td>0.0</td>\n",
       "      <td>0.0</td>\n",
       "      <td>0.0</td>\n",
       "      <td>0.5</td>\n",
       "      <td>0.0</td>\n",
       "      <td>1010</td>\n",
       "      <td>1000</td>\n",
       "      <td>Complete Physical Attendance</td>\n",
       "      <td>Yes</td>\n",
       "    </tr>\n",
       "  </tbody>\n",
       "</table>\n",
       "</div>"
      ],
      "text/plain": [
       "      age  gender          occupation line_of_work  time_bp  time_dp  \\\n",
       "0   19-25    Male  Student in College          NaN        7        5   \n",
       "1  Dec-18    Male   Student in School          NaN        7       11   \n",
       "2   19-25    Male  Student in College          NaN        7        7   \n",
       "3   19-25    Male  Student in College          NaN        7        7   \n",
       "4   19-25  Female  Student in College          NaN        7        7   \n",
       "\n",
       "   travel_time  easeof_online  home_env  prod_inc  sleep_bal  new_skill  \\\n",
       "0          0.5              3         3       0.0        0.0        0.5   \n",
       "1          0.5              4         2      -0.5        0.5       -1.0   \n",
       "2          1.5              2         2       1.0        0.0        0.5   \n",
       "3          1.5              3         1       0.0        1.0        0.5   \n",
       "4          1.5              2         2       0.0        0.0        0.0   \n",
       "\n",
       "   fam_connect  relaxed  self_time  like_hw  dislike_hw  \\\n",
       "0          1.0     -0.5       -0.5      100           1   \n",
       "1          1.0      1.0        1.0     1111        1110   \n",
       "2          0.5      0.5        0.5     1100         111   \n",
       "3          0.0     -1.0       -0.5      100        1111   \n",
       "4          0.0      0.5        0.0     1010        1000   \n",
       "\n",
       "                         prefer certaindays_hw  \n",
       "0  Complete Physical Attendance            Yes  \n",
       "1  Complete Physical Attendance             No  \n",
       "2  Complete Physical Attendance            Yes  \n",
       "3  Complete Physical Attendance            Yes  \n",
       "4  Complete Physical Attendance            Yes  "
      ]
     },
     "execution_count": 8,
     "metadata": {},
     "output_type": "execute_result"
    }
   ],
   "source": [
    "df.head()"
   ]
  },
  {
   "cell_type": "code",
   "execution_count": 9,
   "id": "a42f6a76",
   "metadata": {},
   "outputs": [
    {
     "data": {
      "text/plain": [
       "19-25     345\n",
       "26-32     261\n",
       "40-50     181\n",
       "50-60     170\n",
       "33-40     102\n",
       "Dec-18     74\n",
       "60+        42\n",
       "Name: age, dtype: int64"
      ]
     },
     "execution_count": 9,
     "metadata": {},
     "output_type": "execute_result"
    }
   ],
   "source": [
    "df['age'].value_counts()"
   ]
  },
  {
   "cell_type": "code",
   "execution_count": 10,
   "id": "a9656f9b",
   "metadata": {},
   "outputs": [
    {
     "name": "stdout",
     "output_type": "stream",
     "text": [
      "count      1175\n",
      "unique        7\n",
      "top       19-25\n",
      "freq        345\n",
      "Name: age, dtype: object\n"
     ]
    }
   ],
   "source": [
    "print(df['age'].describe())"
   ]
  },
  {
   "cell_type": "code",
   "execution_count": 11,
   "id": "3d1d9dee",
   "metadata": {},
   "outputs": [
    {
     "data": {
      "text/plain": [
       "Male                 649\n",
       "Female               518\n",
       "Prefer not to say      8\n",
       "Name: gender, dtype: int64"
      ]
     },
     "execution_count": 11,
     "metadata": {},
     "output_type": "execute_result"
    }
   ],
   "source": [
    "df['gender'].value_counts()"
   ]
  },
  {
   "cell_type": "code",
   "execution_count": 12,
   "id": "91aa8937",
   "metadata": {},
   "outputs": [
    {
     "name": "stdout",
     "output_type": "stream",
     "text": [
      "count     1175\n",
      "unique       3\n",
      "top       Male\n",
      "freq       649\n",
      "Name: gender, dtype: object\n"
     ]
    }
   ],
   "source": [
    "print(df['gender'].describe())"
   ]
  },
  {
   "cell_type": "code",
   "execution_count": 13,
   "id": "0b2b85b2",
   "metadata": {},
   "outputs": [
    {
     "data": {
      "text/plain": [
       "Working Professional                                    479\n",
       "Student in College                                      358\n",
       "Entrepreneur                                            119\n",
       "Homemaker                                                82\n",
       "Medical Professional aiding efforts against COVID-19     73\n",
       "Currently Out of Work                                    44\n",
       "Student in School                                        18\n",
       "Retired/Senior Citizen                                    2\n",
       "Name: occupation, dtype: int64"
      ]
     },
     "execution_count": 13,
     "metadata": {},
     "output_type": "execute_result"
    }
   ],
   "source": [
    "df['occupation'].value_counts()"
   ]
  },
  {
   "cell_type": "code",
   "execution_count": 14,
   "id": "62a5d7f6",
   "metadata": {},
   "outputs": [
    {
     "name": "stdout",
     "output_type": "stream",
     "text": [
      "count                     1175\n",
      "unique                       8\n",
      "top       Working Professional\n",
      "freq                       479\n",
      "Name: occupation, dtype: object\n"
     ]
    }
   ],
   "source": [
    "print(df['occupation'].describe())"
   ]
  },
  {
   "cell_type": "code",
   "execution_count": 15,
   "id": "0417d64d",
   "metadata": {},
   "outputs": [
    {
     "data": {
      "text/plain": [
       "Teaching               217\n",
       "Engineering            116\n",
       "Management              66\n",
       "Other                   40\n",
       "Government Employee     35\n",
       "Architect                3\n",
       "APSPDCL                  1\n",
       "Architecture             1\n",
       "Name: line_of_work, dtype: int64"
      ]
     },
     "execution_count": 15,
     "metadata": {},
     "output_type": "execute_result"
    }
   ],
   "source": [
    "df['line_of_work'].value_counts()"
   ]
  },
  {
   "cell_type": "code",
   "execution_count": 16,
   "id": "2a943d42",
   "metadata": {},
   "outputs": [
    {
     "name": "stdout",
     "output_type": "stream",
     "text": [
      "count          479\n",
      "unique           8\n",
      "top       Teaching\n",
      "freq           217\n",
      "Name: line_of_work, dtype: object\n"
     ]
    }
   ],
   "source": [
    "print(df['line_of_work'].describe())"
   ]
  },
  {
   "cell_type": "code",
   "execution_count": 17,
   "id": "622e449d",
   "metadata": {},
   "outputs": [
    {
     "data": {
      "text/plain": [
       "7     412\n",
       "9     343\n",
       "5     283\n",
       "11     53\n",
       "12     51\n",
       "4      33\n",
       "Name: time_bp, dtype: int64"
      ]
     },
     "execution_count": 17,
     "metadata": {},
     "output_type": "execute_result"
    }
   ],
   "source": [
    "df['time_bp'].value_counts()"
   ]
  },
  {
   "cell_type": "code",
   "execution_count": 18,
   "id": "78bde450",
   "metadata": {},
   "outputs": [
    {
     "name": "stdout",
     "output_type": "stream",
     "text": [
      "count    1175.000000\n",
      "mean        7.415319\n",
      "std         2.005385\n",
      "min         4.000000\n",
      "25%         5.000000\n",
      "50%         7.000000\n",
      "75%         9.000000\n",
      "max        12.000000\n",
      "Name: time_bp, dtype: float64\n"
     ]
    }
   ],
   "source": [
    "print(df['time_bp'].describe())"
   ]
  },
  {
   "cell_type": "code",
   "execution_count": 19,
   "id": "c0c4767a",
   "metadata": {},
   "outputs": [
    {
     "data": {
      "text/plain": [
       "9     326\n",
       "7     238\n",
       "5     180\n",
       "12    169\n",
       "4     149\n",
       "11    113\n",
       "Name: time_dp, dtype: int64"
      ]
     },
     "execution_count": 19,
     "metadata": {},
     "output_type": "execute_result"
    }
   ],
   "source": [
    "df['time_dp'].value_counts()"
   ]
  },
  {
   "cell_type": "code",
   "execution_count": 20,
   "id": "823d5144",
   "metadata": {},
   "outputs": [
    {
     "name": "stdout",
     "output_type": "stream",
     "text": [
      "count    1175.000000\n",
      "mean        7.971915\n",
      "std         2.657007\n",
      "min         4.000000\n",
      "25%         5.000000\n",
      "50%         9.000000\n",
      "75%         9.000000\n",
      "max        12.000000\n",
      "Name: time_dp, dtype: float64\n"
     ]
    }
   ],
   "source": [
    "print(df['time_dp'].describe())"
   ]
  },
  {
   "cell_type": "code",
   "execution_count": 21,
   "id": "b01102fe",
   "metadata": {},
   "outputs": [
    {
     "data": {
      "text/plain": [
       "0.5    699\n",
       "1.5    343\n",
       "2.5    111\n",
       "3.0     22\n",
       "Name: travel_time, dtype: int64"
      ]
     },
     "execution_count": 21,
     "metadata": {},
     "output_type": "execute_result"
    }
   ],
   "source": [
    "df['travel_time'].value_counts()"
   ]
  },
  {
   "cell_type": "code",
   "execution_count": 22,
   "id": "dbb669d9",
   "metadata": {},
   "outputs": [
    {
     "name": "stdout",
     "output_type": "stream",
     "text": [
      "count    1175.000000\n",
      "mean        1.027660\n",
      "std         0.713314\n",
      "min         0.500000\n",
      "25%         0.500000\n",
      "50%         0.500000\n",
      "75%         1.500000\n",
      "max         3.000000\n",
      "Name: travel_time, dtype: float64\n"
     ]
    }
   ],
   "source": [
    "print(df['travel_time'].describe())"
   ]
  },
  {
   "cell_type": "code",
   "execution_count": 23,
   "id": "5cb8f496",
   "metadata": {},
   "outputs": [
    {
     "data": {
      "text/plain": [
       "1    329\n",
       "2    285\n",
       "4    249\n",
       "3    239\n",
       "5     73\n",
       "Name: easeof_online, dtype: int64"
      ]
     },
     "execution_count": 23,
     "metadata": {},
     "output_type": "execute_result"
    }
   ],
   "source": [
    "df['easeof_online'].value_counts()"
   ]
  },
  {
   "cell_type": "code",
   "execution_count": 24,
   "id": "2df0d418",
   "metadata": {},
   "outputs": [
    {
     "name": "stdout",
     "output_type": "stream",
     "text": [
      "count    1175.000000\n",
      "mean        2.533617\n",
      "std         1.267609\n",
      "min         1.000000\n",
      "25%         1.000000\n",
      "50%         2.000000\n",
      "75%         4.000000\n",
      "max         5.000000\n",
      "Name: easeof_online, dtype: float64\n"
     ]
    }
   ],
   "source": [
    "print(df['easeof_online'].describe())"
   ]
  },
  {
   "cell_type": "code",
   "execution_count": 25,
   "id": "f3ceb12f",
   "metadata": {},
   "outputs": [
    {
     "data": {
      "text/plain": [
       "3    327\n",
       "2    309\n",
       "1    215\n",
       "4    200\n",
       "5    124\n",
       "Name: home_env, dtype: int64"
      ]
     },
     "execution_count": 25,
     "metadata": {},
     "output_type": "execute_result"
    }
   ],
   "source": [
    "df['home_env'].value_counts()"
   ]
  },
  {
   "cell_type": "code",
   "execution_count": 26,
   "id": "8b54350d",
   "metadata": {},
   "outputs": [
    {
     "name": "stdout",
     "output_type": "stream",
     "text": [
      "count    1175.000000\n",
      "mean        2.752340\n",
      "std         1.235799\n",
      "min         1.000000\n",
      "25%         2.000000\n",
      "50%         3.000000\n",
      "75%         4.000000\n",
      "max         5.000000\n",
      "Name: home_env, dtype: float64\n"
     ]
    }
   ],
   "source": [
    "print(df['home_env'].describe())"
   ]
  },
  {
   "cell_type": "code",
   "execution_count": 27,
   "id": "486fae5c",
   "metadata": {},
   "outputs": [
    {
     "data": {
      "text/plain": [
       " 0.5    302\n",
       " 0.0    295\n",
       "-0.5    279\n",
       "-1.0    150\n",
       " 1.0    149\n",
       "Name: prod_inc, dtype: int64"
      ]
     },
     "execution_count": 27,
     "metadata": {},
     "output_type": "execute_result"
    }
   ],
   "source": [
    "df['prod_inc'].value_counts()"
   ]
  },
  {
   "cell_type": "code",
   "execution_count": 28,
   "id": "11bdb11c",
   "metadata": {},
   "outputs": [
    {
     "name": "stdout",
     "output_type": "stream",
     "text": [
      "count    1175.000000\n",
      "mean        0.008936\n",
      "std         0.615083\n",
      "min        -1.000000\n",
      "25%        -0.500000\n",
      "50%         0.000000\n",
      "75%         0.500000\n",
      "max         1.000000\n",
      "Name: prod_inc, dtype: float64\n"
     ]
    }
   ],
   "source": [
    "print(df['prod_inc'].describe())"
   ]
  },
  {
   "cell_type": "code",
   "execution_count": 29,
   "id": "a8dba9c3",
   "metadata": {},
   "outputs": [
    {
     "data": {
      "text/plain": [
       "-0.5    313\n",
       " 0.5    271\n",
       " 0.0    270\n",
       "-1.0    214\n",
       " 1.0    107\n",
       "Name: sleep_bal, dtype: int64"
      ]
     },
     "execution_count": 29,
     "metadata": {},
     "output_type": "execute_result"
    }
   ],
   "source": [
    "df['sleep_bal'].value_counts()"
   ]
  },
  {
   "cell_type": "code",
   "execution_count": 30,
   "id": "c01ac74e",
   "metadata": {},
   "outputs": [
    {
     "name": "stdout",
     "output_type": "stream",
     "text": [
      "count    1175.000000\n",
      "mean       -0.108936\n",
      "std         0.621215\n",
      "min        -1.000000\n",
      "25%        -0.500000\n",
      "50%         0.000000\n",
      "75%         0.500000\n",
      "max         1.000000\n",
      "Name: sleep_bal, dtype: float64\n"
     ]
    }
   ],
   "source": [
    "print(df['sleep_bal'].describe())"
   ]
  },
  {
   "cell_type": "code",
   "execution_count": 31,
   "id": "97da1fb0",
   "metadata": {},
   "outputs": [
    {
     "data": {
      "text/plain": [
       " 0.5    366\n",
       "-0.5    249\n",
       " 1.0    236\n",
       " 0.0    202\n",
       "-1.0    122\n",
       "Name: new_skill, dtype: int64"
      ]
     },
     "execution_count": 31,
     "metadata": {},
     "output_type": "execute_result"
    }
   ],
   "source": [
    "df['new_skill'].value_counts()"
   ]
  },
  {
   "cell_type": "code",
   "execution_count": 32,
   "id": "2059f2f9",
   "metadata": {},
   "outputs": [
    {
     "name": "stdout",
     "output_type": "stream",
     "text": [
      "count    1175.000000\n",
      "mean        0.146809\n",
      "std         0.643686\n",
      "min        -1.000000\n",
      "25%        -0.500000\n",
      "50%         0.500000\n",
      "75%         0.500000\n",
      "max         1.000000\n",
      "Name: new_skill, dtype: float64\n"
     ]
    }
   ],
   "source": [
    "print(df['new_skill'].describe())"
   ]
  },
  {
   "cell_type": "code",
   "execution_count": 33,
   "id": "41fd13b7",
   "metadata": {},
   "outputs": [
    {
     "data": {
      "text/plain": [
       " 0.5    414\n",
       " 1.0    326\n",
       "-1.0    181\n",
       " 0.0    162\n",
       "-0.5     92\n",
       "Name: fam_connect, dtype: int64"
      ]
     },
     "execution_count": 33,
     "metadata": {},
     "output_type": "execute_result"
    }
   ],
   "source": [
    "df['fam_connect'].value_counts()"
   ]
  },
  {
   "cell_type": "code",
   "execution_count": 34,
   "id": "ff3e1350",
   "metadata": {},
   "outputs": [
    {
     "name": "stdout",
     "output_type": "stream",
     "text": [
      "count    1175.000000\n",
      "mean        0.260426\n",
      "std         0.686825\n",
      "min        -1.000000\n",
      "25%         0.000000\n",
      "50%         0.500000\n",
      "75%         1.000000\n",
      "max         1.000000\n",
      "Name: fam_connect, dtype: float64\n"
     ]
    }
   ],
   "source": [
    "print(df['fam_connect'].describe())"
   ]
  },
  {
   "cell_type": "code",
   "execution_count": 35,
   "id": "dab576d1",
   "metadata": {},
   "outputs": [
    {
     "data": {
      "text/plain": [
       " 0.0    306\n",
       " 0.5    274\n",
       "-0.5    268\n",
       " 1.0    183\n",
       "-1.0    144\n",
       "Name: relaxed, dtype: int64"
      ]
     },
     "execution_count": 35,
     "metadata": {},
     "output_type": "execute_result"
    }
   ],
   "source": [
    "df['relaxed'].value_counts()"
   ]
  },
  {
   "cell_type": "code",
   "execution_count": 36,
   "id": "7cf50b1b",
   "metadata": {},
   "outputs": [
    {
     "name": "stdout",
     "output_type": "stream",
     "text": [
      "count    1175.000000\n",
      "mean        0.035745\n",
      "std         0.626637\n",
      "min        -1.000000\n",
      "25%        -0.500000\n",
      "50%         0.000000\n",
      "75%         0.500000\n",
      "max         1.000000\n",
      "Name: relaxed, dtype: float64\n"
     ]
    }
   ],
   "source": [
    "print(df['relaxed'].describe())"
   ]
  },
  {
   "cell_type": "code",
   "execution_count": 37,
   "id": "026513c6",
   "metadata": {},
   "outputs": [
    {
     "data": {
      "text/plain": [
       " 0.0    417\n",
       " 0.5    289\n",
       "-0.5    252\n",
       " 1.0    148\n",
       "-1.0     69\n",
       "Name: self_time, dtype: int64"
      ]
     },
     "execution_count": 37,
     "metadata": {},
     "output_type": "execute_result"
    }
   ],
   "source": [
    "df['self_time'].value_counts()"
   ]
  },
  {
   "cell_type": "code",
   "execution_count": 38,
   "id": "2756c6c6",
   "metadata": {},
   "outputs": [
    {
     "name": "stdout",
     "output_type": "stream",
     "text": [
      "count    1175.000000\n",
      "mean        0.082979\n",
      "std         0.541434\n",
      "min        -1.000000\n",
      "25%        -0.500000\n",
      "50%         0.000000\n",
      "75%         0.500000\n",
      "max         1.000000\n",
      "Name: self_time, dtype: float64\n"
     ]
    }
   ],
   "source": [
    "print(df['self_time'].describe())"
   ]
  },
  {
   "cell_type": "code",
   "execution_count": 39,
   "id": "9d0fb338",
   "metadata": {},
   "outputs": [
    {
     "data": {
      "text/plain": [
       "100     233\n",
       "1100    188\n",
       "1000    188\n",
       "1110    188\n",
       "1111     95\n",
       "10       64\n",
       "110      61\n",
       "1010     55\n",
       "1001     42\n",
       "1        17\n",
       "1011     17\n",
       "11        9\n",
       "1101      7\n",
       "101       6\n",
       "111       5\n",
       "Name: like_hw, dtype: int64"
      ]
     },
     "execution_count": 39,
     "metadata": {},
     "output_type": "execute_result"
    }
   ],
   "source": [
    "df['like_hw'].value_counts()"
   ]
  },
  {
   "cell_type": "code",
   "execution_count": 40,
   "id": "07bc03a2",
   "metadata": {},
   "outputs": [
    {
     "name": "stdout",
     "output_type": "stream",
     "text": [
      "count    1175.000000\n",
      "mean      734.840851\n",
      "std       468.000935\n",
      "min         1.000000\n",
      "25%       100.000000\n",
      "50%      1001.000000\n",
      "75%      1100.000000\n",
      "max      1111.000000\n",
      "Name: like_hw, dtype: float64\n"
     ]
    }
   ],
   "source": [
    "print(df['like_hw'].describe())"
   ]
  },
  {
   "cell_type": "code",
   "execution_count": 41,
   "id": "ac4e76b2",
   "metadata": {},
   "outputs": [
    {
     "data": {
      "text/plain": [
       "1111    264\n",
       "1       211\n",
       "1000    150\n",
       "101     110\n",
       "1100     87\n",
       "111      67\n",
       "1101     61\n",
       "1011     59\n",
       "100      45\n",
       "1010     30\n",
       "1001     21\n",
       "1110     20\n",
       "10       20\n",
       "110      19\n",
       "11       11\n",
       "Name: dislike_hw, dtype: int64"
      ]
     },
     "execution_count": 41,
     "metadata": {},
     "output_type": "execute_result"
    }
   ],
   "source": [
    "df['dislike_hw'].value_counts()"
   ]
  },
  {
   "cell_type": "code",
   "execution_count": 42,
   "id": "f96e28ba",
   "metadata": {},
   "outputs": [
    {
     "name": "stdout",
     "output_type": "stream",
     "text": [
      "count    1175.000000\n",
      "mean      651.067234\n",
      "std       502.319310\n",
      "min         1.000000\n",
      "25%       101.000000\n",
      "50%      1000.000000\n",
      "75%      1101.000000\n",
      "max      1111.000000\n",
      "Name: dislike_hw, dtype: float64\n"
     ]
    }
   ],
   "source": [
    "print(df['dislike_hw'].describe())"
   ]
  },
  {
   "cell_type": "code",
   "execution_count": 43,
   "id": "de915435",
   "metadata": {},
   "outputs": [
    {
     "data": {
      "text/plain": [
       "Complete Physical Attendance    836\n",
       "Work/study from home            339\n",
       "Name: prefer, dtype: int64"
      ]
     },
     "execution_count": 43,
     "metadata": {},
     "output_type": "execute_result"
    }
   ],
   "source": [
    "df['prefer'].value_counts()"
   ]
  },
  {
   "cell_type": "code",
   "execution_count": 44,
   "id": "c03a2df6",
   "metadata": {},
   "outputs": [
    {
     "name": "stdout",
     "output_type": "stream",
     "text": [
      "count                             1175\n",
      "unique                               2\n",
      "top       Complete Physical Attendance\n",
      "freq                               836\n",
      "Name: prefer, dtype: object\n"
     ]
    }
   ],
   "source": [
    "print(df['prefer'].describe())"
   ]
  },
  {
   "cell_type": "code",
   "execution_count": 45,
   "id": "04c18112",
   "metadata": {},
   "outputs": [
    {
     "data": {
      "text/plain": [
       "Yes      568\n",
       "No       309\n",
       "Maybe    298\n",
       "Name: certaindays_hw, dtype: int64"
      ]
     },
     "execution_count": 45,
     "metadata": {},
     "output_type": "execute_result"
    }
   ],
   "source": [
    "df['certaindays_hw'].value_counts()"
   ]
  },
  {
   "cell_type": "code",
   "execution_count": 46,
   "id": "2a05bb37",
   "metadata": {},
   "outputs": [
    {
     "name": "stdout",
     "output_type": "stream",
     "text": [
      "count     1175\n",
      "unique       3\n",
      "top        Yes\n",
      "freq       568\n",
      "Name: certaindays_hw, dtype: object\n"
     ]
    }
   ],
   "source": [
    "print(df['certaindays_hw'].describe())"
   ]
  },
  {
   "cell_type": "code",
   "execution_count": 47,
   "id": "2977e9f5",
   "metadata": {},
   "outputs": [
    {
     "data": {
      "text/html": [
       "<div>\n",
       "<style scoped>\n",
       "    .dataframe tbody tr th:only-of-type {\n",
       "        vertical-align: middle;\n",
       "    }\n",
       "\n",
       "    .dataframe tbody tr th {\n",
       "        vertical-align: top;\n",
       "    }\n",
       "\n",
       "    .dataframe thead th {\n",
       "        text-align: right;\n",
       "    }\n",
       "</style>\n",
       "<table border=\"1\" class=\"dataframe\">\n",
       "  <thead>\n",
       "    <tr style=\"text-align: right;\">\n",
       "      <th>occupation</th>\n",
       "      <th>Currently Out of Work</th>\n",
       "      <th>Entrepreneur</th>\n",
       "      <th>Homemaker</th>\n",
       "      <th>Medical Professional aiding efforts against COVID-19</th>\n",
       "      <th>Retired/Senior Citizen</th>\n",
       "      <th>Student in College</th>\n",
       "      <th>Student in School</th>\n",
       "      <th>Working Professional</th>\n",
       "    </tr>\n",
       "    <tr>\n",
       "      <th>age</th>\n",
       "      <th></th>\n",
       "      <th></th>\n",
       "      <th></th>\n",
       "      <th></th>\n",
       "      <th></th>\n",
       "      <th></th>\n",
       "      <th></th>\n",
       "      <th></th>\n",
       "    </tr>\n",
       "  </thead>\n",
       "  <tbody>\n",
       "    <tr>\n",
       "      <th>19-25</th>\n",
       "      <td>3</td>\n",
       "      <td>12</td>\n",
       "      <td>0</td>\n",
       "      <td>0</td>\n",
       "      <td>1</td>\n",
       "      <td>300</td>\n",
       "      <td>0</td>\n",
       "      <td>29</td>\n",
       "    </tr>\n",
       "    <tr>\n",
       "      <th>26-32</th>\n",
       "      <td>1</td>\n",
       "      <td>63</td>\n",
       "      <td>14</td>\n",
       "      <td>0</td>\n",
       "      <td>0</td>\n",
       "      <td>2</td>\n",
       "      <td>0</td>\n",
       "      <td>181</td>\n",
       "    </tr>\n",
       "    <tr>\n",
       "      <th>33-40</th>\n",
       "      <td>1</td>\n",
       "      <td>2</td>\n",
       "      <td>2</td>\n",
       "      <td>30</td>\n",
       "      <td>0</td>\n",
       "      <td>0</td>\n",
       "      <td>0</td>\n",
       "      <td>67</td>\n",
       "    </tr>\n",
       "    <tr>\n",
       "      <th>40-50</th>\n",
       "      <td>0</td>\n",
       "      <td>39</td>\n",
       "      <td>3</td>\n",
       "      <td>22</td>\n",
       "      <td>0</td>\n",
       "      <td>0</td>\n",
       "      <td>0</td>\n",
       "      <td>117</td>\n",
       "    </tr>\n",
       "    <tr>\n",
       "      <th>50-60</th>\n",
       "      <td>1</td>\n",
       "      <td>2</td>\n",
       "      <td>61</td>\n",
       "      <td>21</td>\n",
       "      <td>1</td>\n",
       "      <td>0</td>\n",
       "      <td>0</td>\n",
       "      <td>84</td>\n",
       "    </tr>\n",
       "    <tr>\n",
       "      <th>60+</th>\n",
       "      <td>38</td>\n",
       "      <td>1</td>\n",
       "      <td>2</td>\n",
       "      <td>0</td>\n",
       "      <td>0</td>\n",
       "      <td>0</td>\n",
       "      <td>0</td>\n",
       "      <td>1</td>\n",
       "    </tr>\n",
       "    <tr>\n",
       "      <th>Dec-18</th>\n",
       "      <td>0</td>\n",
       "      <td>0</td>\n",
       "      <td>0</td>\n",
       "      <td>0</td>\n",
       "      <td>0</td>\n",
       "      <td>56</td>\n",
       "      <td>18</td>\n",
       "      <td>0</td>\n",
       "    </tr>\n",
       "  </tbody>\n",
       "</table>\n",
       "</div>"
      ],
      "text/plain": [
       "occupation  Currently Out of Work  Entrepreneur  Homemaker  \\\n",
       "age                                                          \n",
       "19-25                           3            12          0   \n",
       "26-32                           1            63         14   \n",
       "33-40                           1             2          2   \n",
       "40-50                           0            39          3   \n",
       "50-60                           1             2         61   \n",
       "60+                            38             1          2   \n",
       "Dec-18                          0             0          0   \n",
       "\n",
       "occupation  Medical Professional aiding efforts against COVID-19  \\\n",
       "age                                                                \n",
       "19-25                                                       0      \n",
       "26-32                                                       0      \n",
       "33-40                                                      30      \n",
       "40-50                                                      22      \n",
       "50-60                                                      21      \n",
       "60+                                                         0      \n",
       "Dec-18                                                      0      \n",
       "\n",
       "occupation  Retired/Senior Citizen  Student in College  Student in School  \\\n",
       "age                                                                         \n",
       "19-25                            1                 300                  0   \n",
       "26-32                            0                   2                  0   \n",
       "33-40                            0                   0                  0   \n",
       "40-50                            0                   0                  0   \n",
       "50-60                            1                   0                  0   \n",
       "60+                              0                   0                  0   \n",
       "Dec-18                           0                  56                 18   \n",
       "\n",
       "occupation  Working Professional  \n",
       "age                               \n",
       "19-25                         29  \n",
       "26-32                        181  \n",
       "33-40                         67  \n",
       "40-50                        117  \n",
       "50-60                         84  \n",
       "60+                            1  \n",
       "Dec-18                         0  "
      ]
     },
     "execution_count": 47,
     "metadata": {},
     "output_type": "execute_result"
    }
   ],
   "source": [
    "#Using crosstab to describe Categorical Variables \n",
    "pd.crosstab(df['age'],df['occupation'])"
   ]
  },
  {
   "cell_type": "code",
   "execution_count": 48,
   "id": "618dc8d4",
   "metadata": {},
   "outputs": [
    {
     "data": {
      "text/plain": [
       "<Axes: xlabel='age'>"
      ]
     },
     "execution_count": 48,
     "metadata": {},
     "output_type": "execute_result"
    },
    {
     "data": {
      "text/plain": [
       "<Figure size 1000x200 with 0 Axes>"
      ]
     },
     "metadata": {},
     "output_type": "display_data"
    },
    {
     "data": {
      "image/png": "[encoded data removed]",
      "text/plain": [
       "<Figure size 640x480 with 1 Axes>"
      ]
     },
     "metadata": {},
     "output_type": "display_data"
    }
   ],
   "source": [
    "# Plot the groupby bar graph\n",
    "plt.figure(figsize=(10, 2))\n",
    "group=df.groupby(['age','occupation']).size().unstack()\n",
    "group.plot(kind='bar',stacked=True)"
   ]
  },
  {
   "cell_type": "code",
   "execution_count": 49,
   "id": "e148ddd9",
   "metadata": {},
   "outputs": [
    {
     "data": {
      "text/html": [
       "<div>\n",
       "<style scoped>\n",
       "    .dataframe tbody tr th:only-of-type {\n",
       "        vertical-align: middle;\n",
       "    }\n",
       "\n",
       "    .dataframe tbody tr th {\n",
       "        vertical-align: top;\n",
       "    }\n",
       "\n",
       "    .dataframe thead th {\n",
       "        text-align: right;\n",
       "    }\n",
       "</style>\n",
       "<table border=\"1\" class=\"dataframe\">\n",
       "  <thead>\n",
       "    <tr style=\"text-align: right;\">\n",
       "      <th>travel_time</th>\n",
       "      <th>0.5</th>\n",
       "      <th>1.5</th>\n",
       "      <th>2.5</th>\n",
       "      <th>3.0</th>\n",
       "    </tr>\n",
       "    <tr>\n",
       "      <th>occupation</th>\n",
       "      <th></th>\n",
       "      <th></th>\n",
       "      <th></th>\n",
       "      <th></th>\n",
       "    </tr>\n",
       "  </thead>\n",
       "  <tbody>\n",
       "    <tr>\n",
       "      <th>Currently Out of Work</th>\n",
       "      <td>3</td>\n",
       "      <td>39</td>\n",
       "      <td>2</td>\n",
       "      <td>0</td>\n",
       "    </tr>\n",
       "    <tr>\n",
       "      <th>Entrepreneur</th>\n",
       "      <td>59</td>\n",
       "      <td>57</td>\n",
       "      <td>0</td>\n",
       "      <td>3</td>\n",
       "    </tr>\n",
       "    <tr>\n",
       "      <th>Homemaker</th>\n",
       "      <td>80</td>\n",
       "      <td>1</td>\n",
       "      <td>0</td>\n",
       "      <td>1</td>\n",
       "    </tr>\n",
       "    <tr>\n",
       "      <th>Medical Professional aiding efforts against COVID-19</th>\n",
       "      <td>1</td>\n",
       "      <td>51</td>\n",
       "      <td>21</td>\n",
       "      <td>0</td>\n",
       "    </tr>\n",
       "    <tr>\n",
       "      <th>Retired/Senior Citizen</th>\n",
       "      <td>1</td>\n",
       "      <td>0</td>\n",
       "      <td>1</td>\n",
       "      <td>0</td>\n",
       "    </tr>\n",
       "    <tr>\n",
       "      <th>Student in College</th>\n",
       "      <td>261</td>\n",
       "      <td>61</td>\n",
       "      <td>19</td>\n",
       "      <td>17</td>\n",
       "    </tr>\n",
       "    <tr>\n",
       "      <th>Student in School</th>\n",
       "      <td>15</td>\n",
       "      <td>2</td>\n",
       "      <td>1</td>\n",
       "      <td>0</td>\n",
       "    </tr>\n",
       "    <tr>\n",
       "      <th>Working Professional</th>\n",
       "      <td>279</td>\n",
       "      <td>132</td>\n",
       "      <td>67</td>\n",
       "      <td>1</td>\n",
       "    </tr>\n",
       "  </tbody>\n",
       "</table>\n",
       "</div>"
      ],
      "text/plain": [
       "travel_time                                         0.5  1.5  2.5  3.0\n",
       "occupation                                                            \n",
       "Currently Out of Work                                 3   39    2    0\n",
       "Entrepreneur                                         59   57    0    3\n",
       "Homemaker                                            80    1    0    1\n",
       "Medical Professional aiding efforts against COV...    1   51   21    0\n",
       "Retired/Senior Citizen                                1    0    1    0\n",
       "Student in College                                  261   61   19   17\n",
       "Student in School                                    15    2    1    0\n",
       "Working Professional                                279  132   67    1"
      ]
     },
     "execution_count": 49,
     "metadata": {},
     "output_type": "execute_result"
    }
   ],
   "source": [
    "\n",
    "#Using crosstab to describe Categorical Variables \n",
    "pd.crosstab(df['occupation'],df['travel_time'])"
   ]
  },
  {
   "cell_type": "code",
   "execution_count": 50,
   "id": "edf8c9f3",
   "metadata": {},
   "outputs": [
    {
     "data": {
      "image/png": "[encoded data removed]",
      "text/plain": [
       "<Figure size 1200x600 with 1 Axes>"
      ]
     },
     "metadata": {},
     "output_type": "display_data"
    }
   ],
   "source": [
    "# Box Plot for Occupation Vs No. of Hours\n",
    "plt.figure(figsize=(12, 6))\n",
    "sns.boxplot(data=df, x='occupation', y='travel_time')\n",
    "plt.title('Time taken to travel by Occupation')\n",
    "plt.xlabel('Occupation Group')\n",
    "plt.xticks(rotation=90, va='top')\n",
    "plt.ylabel('Time taken to travel')\n",
    "plt.show()"
   ]
  },
  {
   "cell_type": "code",
   "execution_count": 51,
   "id": "0ed0a372",
   "metadata": {},
   "outputs": [
    {
     "data": {
      "text/html": [
       "<div>\n",
       "<style scoped>\n",
       "    .dataframe tbody tr th:only-of-type {\n",
       "        vertical-align: middle;\n",
       "    }\n",
       "\n",
       "    .dataframe tbody tr th {\n",
       "        vertical-align: top;\n",
       "    }\n",
       "\n",
       "    .dataframe thead th {\n",
       "        text-align: right;\n",
       "    }\n",
       "</style>\n",
       "<table border=\"1\" class=\"dataframe\">\n",
       "  <thead>\n",
       "    <tr style=\"text-align: right;\">\n",
       "      <th>Relaxed Rating Group</th>\n",
       "      <th>High</th>\n",
       "      <th>Low</th>\n",
       "      <th>Moderate</th>\n",
       "      <th>Neutral</th>\n",
       "      <th>Very Low</th>\n",
       "    </tr>\n",
       "    <tr>\n",
       "      <th>occupation</th>\n",
       "      <th></th>\n",
       "      <th></th>\n",
       "      <th></th>\n",
       "      <th></th>\n",
       "      <th></th>\n",
       "    </tr>\n",
       "  </thead>\n",
       "  <tbody>\n",
       "    <tr>\n",
       "      <th>Currently Out of Work</th>\n",
       "      <td>39</td>\n",
       "      <td>2</td>\n",
       "      <td>0</td>\n",
       "      <td>3</td>\n",
       "      <td>0</td>\n",
       "    </tr>\n",
       "    <tr>\n",
       "      <th>Entrepreneur</th>\n",
       "      <td>62</td>\n",
       "      <td>4</td>\n",
       "      <td>4</td>\n",
       "      <td>46</td>\n",
       "      <td>3</td>\n",
       "    </tr>\n",
       "    <tr>\n",
       "      <th>Homemaker</th>\n",
       "      <td>0</td>\n",
       "      <td>61</td>\n",
       "      <td>2</td>\n",
       "      <td>2</td>\n",
       "      <td>17</td>\n",
       "    </tr>\n",
       "    <tr>\n",
       "      <th>Medical Professional aiding efforts against COVID-19</th>\n",
       "      <td>0</td>\n",
       "      <td>32</td>\n",
       "      <td>0</td>\n",
       "      <td>1</td>\n",
       "      <td>40</td>\n",
       "    </tr>\n",
       "    <tr>\n",
       "      <th>Retired/Senior Citizen</th>\n",
       "      <td>0</td>\n",
       "      <td>0</td>\n",
       "      <td>0</td>\n",
       "      <td>1</td>\n",
       "      <td>1</td>\n",
       "    </tr>\n",
       "    <tr>\n",
       "      <th>Student in College</th>\n",
       "      <td>29</td>\n",
       "      <td>82</td>\n",
       "      <td>76</td>\n",
       "      <td>106</td>\n",
       "      <td>65</td>\n",
       "    </tr>\n",
       "    <tr>\n",
       "      <th>Student in School</th>\n",
       "      <td>2</td>\n",
       "      <td>1</td>\n",
       "      <td>8</td>\n",
       "      <td>5</td>\n",
       "      <td>2</td>\n",
       "    </tr>\n",
       "    <tr>\n",
       "      <th>Working Professional</th>\n",
       "      <td>51</td>\n",
       "      <td>86</td>\n",
       "      <td>184</td>\n",
       "      <td>142</td>\n",
       "      <td>16</td>\n",
       "    </tr>\n",
       "  </tbody>\n",
       "</table>\n",
       "</div>"
      ],
      "text/plain": [
       "Relaxed Rating Group                                High  Low  Moderate  \\\n",
       "occupation                                                                \n",
       "Currently Out of Work                                 39    2         0   \n",
       "Entrepreneur                                          62    4         4   \n",
       "Homemaker                                              0   61         2   \n",
       "Medical Professional aiding efforts against COV...     0   32         0   \n",
       "Retired/Senior Citizen                                 0    0         0   \n",
       "Student in College                                    29   82        76   \n",
       "Student in School                                      2    1         8   \n",
       "Working Professional                                  51   86       184   \n",
       "\n",
       "Relaxed Rating Group                                Neutral  Very Low  \n",
       "occupation                                                             \n",
       "Currently Out of Work                                     3         0  \n",
       "Entrepreneur                                             46         3  \n",
       "Homemaker                                                 2        17  \n",
       "Medical Professional aiding efforts against COV...        1        40  \n",
       "Retired/Senior Citizen                                    1         1  \n",
       "Student in College                                      106        65  \n",
       "Student in School                                         5         2  \n",
       "Working Professional                                    142        16  "
      ]
     },
     "execution_count": 51,
     "metadata": {},
     "output_type": "execute_result"
    }
   ],
   "source": [
    "#Replacing numerical values with categorical values\n",
    "relaxed_grp = {\n",
    "    -1.0 : 'Very Low',\n",
    "    -0.5 : 'Low',\n",
    "     0.0 : 'Neutral',\n",
    "     1.0 : 'High',\n",
    "     0.5 : 'Moderate'   \n",
    "}\n",
    "df['Relaxed Rating Group'] = df['relaxed'].replace(relaxed_grp)\n",
    "\n",
    "#Using crosstab to describe Categorical Variables \n",
    "pd.crosstab(df['occupation'],df['Relaxed Rating Group'])"
   ]
  },
  {
   "cell_type": "code",
   "execution_count": 52,
   "id": "e5771c63",
   "metadata": {},
   "outputs": [
    {
     "data": {
      "image/png": "[encoded data removed]",
      "text/plain": [
       "<Figure size 800x400 with 2 Axes>"
      ]
     },
     "metadata": {},
     "output_type": "display_data"
    }
   ],
   "source": [
    "# Create a pivot table to aggregate data\n",
    "heatmap_data = df.pivot_table(columns='occupation', index='relaxed', aggfunc='size', fill_value=0)\n",
    "\n",
    "# Plot the heatmap\n",
    "plt.figure(figsize=(8, 4))\n",
    "sns.heatmap(heatmap_data, annot=True,cmap='coolwarm',  fmt='g')\n",
    "plt.title('Heatmap of Occupation vs. Relaxed')\n",
    "plt.show()"
   ]
  },
  {
   "cell_type": "code",
   "execution_count": 53,
   "id": "71e7df5f",
   "metadata": {},
   "outputs": [
    {
     "data": {
      "text/html": [
       "<div>\n",
       "<style scoped>\n",
       "    .dataframe tbody tr th:only-of-type {\n",
       "        vertical-align: middle;\n",
       "    }\n",
       "\n",
       "    .dataframe tbody tr th {\n",
       "        vertical-align: top;\n",
       "    }\n",
       "\n",
       "    .dataframe thead th {\n",
       "        text-align: right;\n",
       "    }\n",
       "</style>\n",
       "<table border=\"1\" class=\"dataframe\">\n",
       "  <thead>\n",
       "    <tr style=\"text-align: right;\">\n",
       "      <th>gender</th>\n",
       "      <th>Female</th>\n",
       "      <th>Male</th>\n",
       "      <th>Prefer not to say</th>\n",
       "    </tr>\n",
       "    <tr>\n",
       "      <th>occupation</th>\n",
       "      <th></th>\n",
       "      <th></th>\n",
       "      <th></th>\n",
       "    </tr>\n",
       "  </thead>\n",
       "  <tbody>\n",
       "    <tr>\n",
       "      <th>Currently Out of Work</th>\n",
       "      <td>2</td>\n",
       "      <td>42</td>\n",
       "      <td>0</td>\n",
       "    </tr>\n",
       "    <tr>\n",
       "      <th>Entrepreneur</th>\n",
       "      <td>103</td>\n",
       "      <td>14</td>\n",
       "      <td>2</td>\n",
       "    </tr>\n",
       "    <tr>\n",
       "      <th>Homemaker</th>\n",
       "      <td>81</td>\n",
       "      <td>0</td>\n",
       "      <td>1</td>\n",
       "    </tr>\n",
       "    <tr>\n",
       "      <th>Medical Professional aiding efforts against COVID-19</th>\n",
       "      <td>52</td>\n",
       "      <td>21</td>\n",
       "      <td>0</td>\n",
       "    </tr>\n",
       "    <tr>\n",
       "      <th>Retired/Senior Citizen</th>\n",
       "      <td>0</td>\n",
       "      <td>1</td>\n",
       "      <td>1</td>\n",
       "    </tr>\n",
       "    <tr>\n",
       "      <th>Student in College</th>\n",
       "      <td>64</td>\n",
       "      <td>293</td>\n",
       "      <td>1</td>\n",
       "    </tr>\n",
       "    <tr>\n",
       "      <th>Student in School</th>\n",
       "      <td>4</td>\n",
       "      <td>12</td>\n",
       "      <td>2</td>\n",
       "    </tr>\n",
       "    <tr>\n",
       "      <th>Working Professional</th>\n",
       "      <td>212</td>\n",
       "      <td>266</td>\n",
       "      <td>1</td>\n",
       "    </tr>\n",
       "  </tbody>\n",
       "</table>\n",
       "</div>"
      ],
      "text/plain": [
       "gender                                              Female  Male  \\\n",
       "occupation                                                         \n",
       "Currently Out of Work                                    2    42   \n",
       "Entrepreneur                                           103    14   \n",
       "Homemaker                                               81     0   \n",
       "Medical Professional aiding efforts against COV...      52    21   \n",
       "Retired/Senior Citizen                                   0     1   \n",
       "Student in College                                      64   293   \n",
       "Student in School                                        4    12   \n",
       "Working Professional                                   212   266   \n",
       "\n",
       "gender                                              Prefer not to say  \n",
       "occupation                                                             \n",
       "Currently Out of Work                                               0  \n",
       "Entrepreneur                                                        2  \n",
       "Homemaker                                                           1  \n",
       "Medical Professional aiding efforts against COV...                  0  \n",
       "Retired/Senior Citizen                                              1  \n",
       "Student in College                                                  1  \n",
       "Student in School                                                   2  \n",
       "Working Professional                                                1  "
      ]
     },
     "execution_count": 53,
     "metadata": {},
     "output_type": "execute_result"
    }
   ],
   "source": [
    "#Using crosstab to describe Categorical Variables \n",
    "pd.crosstab(df['occupation'],df['gender'])"
   ]
  },
  {
   "cell_type": "code",
   "execution_count": 54,
   "id": "9efc8524",
   "metadata": {},
   "outputs": [
    {
     "data": {
      "text/plain": [
       "<Axes: xlabel='occupation'>"
      ]
     },
     "execution_count": 54,
     "metadata": {},
     "output_type": "execute_result"
    },
    {
     "data": {
      "text/plain": [
       "<Figure size 1800x600 with 0 Axes>"
      ]
     },
     "metadata": {},
     "output_type": "display_data"
    },
    {
     "data": {
      "image/png": "[encoded data removed]",
      "text/plain": [
       "<Figure size 640x480 with 1 Axes>"
      ]
     },
     "metadata": {},
     "output_type": "display_data"
    }
   ],
   "source": [
    "# Plot the groupby bar graph\n",
    "plt.figure(figsize=(18, 6))\n",
    "group=df.groupby(['occupation','gender']).size().unstack()\n",
    "group.plot(kind='bar',stacked=True)"
   ]
  },
  {
   "cell_type": "code",
   "execution_count": 55,
   "id": "78ea8825",
   "metadata": {},
   "outputs": [
    {
     "data": {
      "text/html": [
       "<div>\n",
       "<style scoped>\n",
       "    .dataframe tbody tr th:only-of-type {\n",
       "        vertical-align: middle;\n",
       "    }\n",
       "\n",
       "    .dataframe tbody tr th {\n",
       "        vertical-align: top;\n",
       "    }\n",
       "\n",
       "    .dataframe thead th {\n",
       "        text-align: right;\n",
       "    }\n",
       "</style>\n",
       "<table border=\"1\" class=\"dataframe\">\n",
       "  <thead>\n",
       "    <tr style=\"text-align: right;\">\n",
       "      <th>Self Time Group</th>\n",
       "      <th>High</th>\n",
       "      <th>Low</th>\n",
       "      <th>Moderate</th>\n",
       "      <th>Neutral</th>\n",
       "      <th>Very Low</th>\n",
       "    </tr>\n",
       "    <tr>\n",
       "      <th>occupation</th>\n",
       "      <th></th>\n",
       "      <th></th>\n",
       "      <th></th>\n",
       "      <th></th>\n",
       "      <th></th>\n",
       "    </tr>\n",
       "  </thead>\n",
       "  <tbody>\n",
       "    <tr>\n",
       "      <th>Currently Out of Work</th>\n",
       "      <td>38</td>\n",
       "      <td>1</td>\n",
       "      <td>2</td>\n",
       "      <td>3</td>\n",
       "      <td>0</td>\n",
       "    </tr>\n",
       "    <tr>\n",
       "      <th>Entrepreneur</th>\n",
       "      <td>9</td>\n",
       "      <td>7</td>\n",
       "      <td>0</td>\n",
       "      <td>102</td>\n",
       "      <td>1</td>\n",
       "    </tr>\n",
       "    <tr>\n",
       "      <th>Homemaker</th>\n",
       "      <td>0</td>\n",
       "      <td>62</td>\n",
       "      <td>1</td>\n",
       "      <td>2</td>\n",
       "      <td>17</td>\n",
       "    </tr>\n",
       "    <tr>\n",
       "      <th>Medical Professional aiding efforts against COVID-19</th>\n",
       "      <td>0</td>\n",
       "      <td>41</td>\n",
       "      <td>1</td>\n",
       "      <td>31</td>\n",
       "      <td>0</td>\n",
       "    </tr>\n",
       "    <tr>\n",
       "      <th>Retired/Senior Citizen</th>\n",
       "      <td>0</td>\n",
       "      <td>0</td>\n",
       "      <td>0</td>\n",
       "      <td>2</td>\n",
       "      <td>0</td>\n",
       "    </tr>\n",
       "    <tr>\n",
       "      <th>Student in College</th>\n",
       "      <td>48</td>\n",
       "      <td>55</td>\n",
       "      <td>91</td>\n",
       "      <td>130</td>\n",
       "      <td>34</td>\n",
       "    </tr>\n",
       "    <tr>\n",
       "      <th>Student in School</th>\n",
       "      <td>2</td>\n",
       "      <td>1</td>\n",
       "      <td>8</td>\n",
       "      <td>6</td>\n",
       "      <td>1</td>\n",
       "    </tr>\n",
       "    <tr>\n",
       "      <th>Working Professional</th>\n",
       "      <td>51</td>\n",
       "      <td>85</td>\n",
       "      <td>186</td>\n",
       "      <td>141</td>\n",
       "      <td>16</td>\n",
       "    </tr>\n",
       "  </tbody>\n",
       "</table>\n",
       "</div>"
      ],
      "text/plain": [
       "Self Time Group                                     High  Low  Moderate  \\\n",
       "occupation                                                                \n",
       "Currently Out of Work                                 38    1         2   \n",
       "Entrepreneur                                           9    7         0   \n",
       "Homemaker                                              0   62         1   \n",
       "Medical Professional aiding efforts against COV...     0   41         1   \n",
       "Retired/Senior Citizen                                 0    0         0   \n",
       "Student in College                                    48   55        91   \n",
       "Student in School                                      2    1         8   \n",
       "Working Professional                                  51   85       186   \n",
       "\n",
       "Self Time Group                                     Neutral  Very Low  \n",
       "occupation                                                             \n",
       "Currently Out of Work                                     3         0  \n",
       "Entrepreneur                                            102         1  \n",
       "Homemaker                                                 2        17  \n",
       "Medical Professional aiding efforts against COV...       31         0  \n",
       "Retired/Senior Citizen                                    2         0  \n",
       "Student in College                                      130        34  \n",
       "Student in School                                         6         1  \n",
       "Working Professional                                    141        16  "
      ]
     },
     "execution_count": 55,
     "metadata": {},
     "output_type": "execute_result"
    }
   ],
   "source": [
    "#Replacing numerical values with categorical values\n",
    "self_time_grp = {\n",
    "    -1.0 : 'Very Low',\n",
    "    -0.5 : 'Low',\n",
    "     0.0 : 'Neutral',\n",
    "     1.0 : 'High',\n",
    "     0.5 : 'Moderate'   \n",
    "}\n",
    "df['Self Time Group'] = df['self_time'].replace(self_time_grp)\n",
    "\n",
    "#Using crosstab to describe Categorical Variables \n",
    "pd.crosstab(df['occupation'],df['Self Time Group'])"
   ]
  },
  {
   "cell_type": "code",
   "execution_count": 56,
   "id": "2b29f849",
   "metadata": {},
   "outputs": [
    {
     "data": {
      "image/png": "[encoded data removed]",
      "text/plain": [
       "<Figure size 1000x600 with 2 Axes>"
      ]
     },
     "metadata": {},
     "output_type": "display_data"
    }
   ],
   "source": [
    "# Create a pivot table to aggregate data\n",
    "heatmap_data = df.pivot_table(columns='occupation', index='Self Time Group', aggfunc='size', fill_value=0)\n",
    "\n",
    "# Plot the heatmap\n",
    "plt.figure(figsize=(10, 6))\n",
    "sns.heatmap(heatmap_data, annot=True,cmap='coolwarm',  fmt='g')\n",
    "plt.title('Heatmap of Occupation vs. Self Time Rating')\n",
    "plt.show()"
   ]
  },
  {
   "cell_type": "code",
   "execution_count": 57,
   "id": "e7e03c3b",
   "metadata": {},
   "outputs": [
    {
     "data": {
      "text/plain": [
       "<Axes: xlabel='age'>"
      ]
     },
     "execution_count": 57,
     "metadata": {},
     "output_type": "execute_result"
    },
    {
     "data": {
      "text/plain": [
       "<Figure size 1800x600 with 0 Axes>"
      ]
     },
     "metadata": {},
     "output_type": "display_data"
    },
    {
     "data": {
      "image/png": "[encoded data removed]",
      "text/plain": [
       "<Figure size 640x480 with 1 Axes>"
      ]
     },
     "metadata": {},
     "output_type": "display_data"
    }
   ],
   "source": [
    "#Replacing numerical values with categorical values\n",
    "fam_connect_grp = {\n",
    "    -1.0 : 'Very Low',\n",
    "    -0.5 : 'Low',\n",
    "     0.0 : 'Neutral',\n",
    "     1.0 : 'High',\n",
    "     0.5 : 'Moderate'   \n",
    "}\n",
    "df['Family connect Group'] = df['fam_connect'].replace(fam_connect_grp)\n",
    "# Plot the groupby bar graph\n",
    "plt.figure(figsize=(18, 6))\n",
    "group=df.groupby(['age','Family connect Group']).size().unstack()\n",
    "group.plot(kind='bar',stacked=True)"
   ]
  },
  {
   "cell_type": "code",
   "execution_count": 58,
   "id": "c2d5c20b",
   "metadata": {},
   "outputs": [
    {
     "data": {
      "text/html": [
       "<div>\n",
       "<style scoped>\n",
       "    .dataframe tbody tr th:only-of-type {\n",
       "        vertical-align: middle;\n",
       "    }\n",
       "\n",
       "    .dataframe tbody tr th {\n",
       "        vertical-align: top;\n",
       "    }\n",
       "\n",
       "    .dataframe thead th {\n",
       "        text-align: right;\n",
       "    }\n",
       "</style>\n",
       "<table border=\"1\" class=\"dataframe\">\n",
       "  <thead>\n",
       "    <tr style=\"text-align: right;\">\n",
       "      <th>Family connect Group</th>\n",
       "      <th>High</th>\n",
       "      <th>Low</th>\n",
       "      <th>Moderate</th>\n",
       "      <th>Neutral</th>\n",
       "      <th>Very Low</th>\n",
       "    </tr>\n",
       "    <tr>\n",
       "      <th>age</th>\n",
       "      <th></th>\n",
       "      <th></th>\n",
       "      <th></th>\n",
       "      <th></th>\n",
       "      <th></th>\n",
       "    </tr>\n",
       "  </thead>\n",
       "  <tbody>\n",
       "    <tr>\n",
       "      <th>19-25</th>\n",
       "      <td>79</td>\n",
       "      <td>32</td>\n",
       "      <td>113</td>\n",
       "      <td>84</td>\n",
       "      <td>37</td>\n",
       "    </tr>\n",
       "    <tr>\n",
       "      <th>26-32</th>\n",
       "      <td>131</td>\n",
       "      <td>2</td>\n",
       "      <td>61</td>\n",
       "      <td>43</td>\n",
       "      <td>24</td>\n",
       "    </tr>\n",
       "    <tr>\n",
       "      <th>33-40</th>\n",
       "      <td>35</td>\n",
       "      <td>1</td>\n",
       "      <td>50</td>\n",
       "      <td>13</td>\n",
       "      <td>3</td>\n",
       "    </tr>\n",
       "    <tr>\n",
       "      <th>40-50</th>\n",
       "      <td>6</td>\n",
       "      <td>6</td>\n",
       "      <td>141</td>\n",
       "      <td>1</td>\n",
       "      <td>27</td>\n",
       "    </tr>\n",
       "    <tr>\n",
       "      <th>50-60</th>\n",
       "      <td>18</td>\n",
       "      <td>49</td>\n",
       "      <td>8</td>\n",
       "      <td>8</td>\n",
       "      <td>87</td>\n",
       "    </tr>\n",
       "    <tr>\n",
       "      <th>60+</th>\n",
       "      <td>39</td>\n",
       "      <td>0</td>\n",
       "      <td>1</td>\n",
       "      <td>0</td>\n",
       "      <td>2</td>\n",
       "    </tr>\n",
       "    <tr>\n",
       "      <th>Dec-18</th>\n",
       "      <td>18</td>\n",
       "      <td>2</td>\n",
       "      <td>40</td>\n",
       "      <td>13</td>\n",
       "      <td>1</td>\n",
       "    </tr>\n",
       "  </tbody>\n",
       "</table>\n",
       "</div>"
      ],
      "text/plain": [
       "Family connect Group  High  Low  Moderate  Neutral  Very Low\n",
       "age                                                         \n",
       "19-25                   79   32       113       84        37\n",
       "26-32                  131    2        61       43        24\n",
       "33-40                   35    1        50       13         3\n",
       "40-50                    6    6       141        1        27\n",
       "50-60                   18   49         8        8        87\n",
       "60+                     39    0         1        0         2\n",
       "Dec-18                  18    2        40       13         1"
      ]
     },
     "execution_count": 58,
     "metadata": {},
     "output_type": "execute_result"
    }
   ],
   "source": [
    "#Using crosstab to describe Categorical Variables \n",
    "pd.crosstab(df['age'],df['Family connect Group'])"
   ]
  },
  {
   "cell_type": "code",
   "execution_count": null,
   "id": "4ee7a834",
   "metadata": {},
   "outputs": [],
   "source": []
  }
 ],
 "metadata": {
  "kernelspec": {
   "display_name": "Python 3 (ipykernel)",
   "language": "python",
   "name": "python3"
  },
  "language_info": {
   "codemirror_mode": {
    "name": "ipython",
    "version": 3
   },
   "file_extension": ".py",
   "mimetype": "text/x-python",
   "name": "python",
   "nbconvert_exporter": "python",
   "pygments_lexer": "ipython3",
   "version": "3.11.4"
  }
 },
 "nbformat": 4,
 "nbformat_minor": 5
}
